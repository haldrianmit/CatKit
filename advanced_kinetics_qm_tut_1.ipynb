{
  "nbformat": 4,
  "nbformat_minor": 0,
  "metadata": {
    "colab": {
      "provenance": [],
      "include_colab_link": true
    },
    "kernelspec": {
      "name": "python3",
      "display_name": "Python 3"
    },
    "language_info": {
      "name": "python"
    }
  },
  "cells": [
    {
      "cell_type": "markdown",
      "metadata": {
        "id": "view-in-github",
        "colab_type": "text"
      },
      "source": [
        "<a href=\"https://colab.research.google.com/github/haldrianmit/CatKit/blob/master/advanced_kinetics_qm_tut_1.ipynb\" target=\"_parent\"><img src=\"https://colab.research.google.com/assets/colab-badge.svg\" alt=\"Open In Colab\"/></a>"
      ]
    },
    {
      "cell_type": "code",
      "execution_count": null,
      "metadata": {
        "colab": {
          "base_uri": "https://localhost:8080/"
        },
        "id": "nCxT3kgXghAN",
        "outputId": "0b325d1c-45e4-4747-eaad-2adec45e466f"
      },
      "outputs": [
        {
          "output_type": "stream",
          "name": "stdout",
          "text": [
            "⏬ Downloading https://github.com/conda-forge/miniforge/releases/download/23.1.0-1/Mambaforge-23.1.0-1-Linux-x86_64.sh...\n",
            "📦 Installing...\n",
            "📌 Adjusting configuration...\n",
            "🩹 Patching environment...\n",
            "⏲ Done in 0:00:16\n",
            "🔁 Restarting kernel...\n"
          ]
        }
      ],
      "source": [
        "#@title **Install Conda Colab**\n",
        "# @markdown It will restart the kernel (session), don't worry.\n",
        "!pip install -q condacolab\n",
        "import condacolab\n",
        "condacolab.install()"
      ]
    },
    {
      "cell_type": "code",
      "source": [
        "#@title **Install dependencies**\n",
        "# @markdown This will take a few minutes.\n",
        "# install dependencies\n",
        "%%capture\n",
        "!mamba install -c anaconda intel-openmp\n",
        "!conda config --add channels http://conda.anaconda.org/psi4\n",
        "!mamba install psi4 resp -c conda-forge/label/libint_dev -c conda-forge\n",
        "\n",
        "import os\n",
        "import psi4\n",
        "import resp"
      ],
      "metadata": {
        "id": "N7CVFx2zmvrc"
      },
      "execution_count": null,
      "outputs": []
    },
    {
      "cell_type": "code",
      "source": [
        "import numpy as np\n",
        "#We're going to explore the formaldehyde dissociation reaction as an example in this tutorial.\n",
        "#First, we will set the memory usage for the psi4 program and define some geometries. Note that psi4 uses Bohr by default.\n",
        "\n",
        "psi4.set_memory('500 MB')\n",
        "\n",
        "co = psi4.geometry(\"\"\"\n",
        "C       -3.69588       -0.86528        0.00000\n",
        "O       -3.82425        0.18390        0.00000\n",
        "\"\"\")\n",
        "\n",
        "h2 = psi4.geometry(\"\"\"\n",
        "H       -4.75453       -0.43223        0.00000\n",
        "H       -4.76313       -1.14018        0.00000\n",
        "\"\"\")\n",
        "\n",
        "formaldehyde = psi4.geometry(\"\"\"\n",
        "C         -4.91148       -0.76497        0.02838\n",
        "O         -4.94682        0.45913        0.02244\n",
        "H         -5.82601       -1.37924        0.03603\n",
        "H         -3.96304       -1.32551        0.02644\n",
        "\"\"\")"
      ],
      "metadata": {
        "id": "YrV6Rz2WoYPK"
      },
      "execution_count": null,
      "outputs": []
    },
    {
      "cell_type": "code",
      "source": [
        "#Let's start with some simple single-point energy calculations. These don't alter the geometry to be a minimum at the same level of theory, but just return the corresponding energy of the input geometry.\n",
        "co_hf_e = psi4.energy('scf/cc-pvdz', molecule = co)\n",
        "print(f\"The HF/cc-pVDZ energy of CO is {co_hf_e} Hartrees\")"
      ],
      "metadata": {
        "colab": {
          "base_uri": "https://localhost:8080/"
        },
        "id": "iMGjX4LJomRj",
        "outputId": "aad38b85-e1b0-4e93-cdfc-6100d2496a5b"
      },
      "execution_count": null,
      "outputs": [
        {
          "output_type": "stream",
          "name": "stdout",
          "text": [
            "The HF/cc-pVDZ energy of CO is -112.74116680632797 Hartrees\n"
          ]
        }
      ]
    },
    {
      "cell_type": "code",
      "source": [
        "#Likewise, we next do the same for the other species:\n",
        "\n",
        "h2_hf_e = psi4.energy('scf/cc-pvdz', molecule = h2)\n",
        "print(f\"The HF/cc-pVDZ energy of H2 is {h2_hf_e} Hartrees\")\n",
        "\n",
        "formald_hf_e = psi4.energy('scf/cc-pvdz', molecule = formaldehyde)\n",
        "print(f\"The HF/cc-pVDZ energy of formaldehyde is {formald_hf_e} Hartrees\")"
      ],
      "metadata": {
        "colab": {
          "base_uri": "https://localhost:8080/"
        },
        "id": "xfu9xbE_pIYn",
        "outputId": "cfa44165-2854-4b15-ca48-cdbad04e2435"
      },
      "execution_count": null,
      "outputs": [
        {
          "output_type": "stream",
          "name": "stdout",
          "text": [
            "The HF/cc-pVDZ energy of H2 is -1.127504675923623 Hartrees\n",
            "The HF/cc-pVDZ energy of formaldehyde is -113.87383563634836 Hartrees\n"
          ]
        }
      ]
    },
    {
      "cell_type": "code",
      "source": [
        "#These species are small enough that reference calculations are out there. If you check reference values, you will notice that the above energies are slightly different to those reported at the same level of theory.\n",
        "#As for why, the geometries above are from a simple force-field, so they are not the same as minima on the HF surface.\n",
        "#To find the geometry corresponding to a mininum on the potential energy surface at our given level of theory, we need to perform an optimization:\n",
        "\n",
        "psi4.optimize('scf/cc-pvdz', molecule=co) #Find the minimum energy geometry on the HF/cc-pVDZ surface."
      ],
      "metadata": {
        "colab": {
          "base_uri": "https://localhost:8080/"
        },
        "id": "GfLZV8EIpPMa",
        "outputId": "ec62c057-9152-40c9-fa3e-2f3b403023de"
      },
      "execution_count": null,
      "outputs": [
        {
          "output_type": "stream",
          "name": "stdout",
          "text": [
            "Optimizer: Optimization complete!\n"
          ]
        },
        {
          "output_type": "execute_result",
          "data": {
            "text/plain": [
              "-112.74990561229222"
            ]
          },
          "metadata": {},
          "execution_count": 6
        }
      ]
    },
    {
      "cell_type": "code",
      "source": [
        "#As the energy went down, the geometry will have changed. Let's take a look at it:\n",
        "\n",
        "for iat in range(co.natom()):\n",
        "    print(\n",
        "\n",
        "                                  co.symbol(iat),  # element symbol\n",
        "                                  co.x(iat),       # x-coordinate\n",
        "                                  co.y(iat),       # y-coordinate\n",
        "                                  co.z(iat),       # z-coordinate\n",
        "                                  co.mass(iat),    # mass\n",
        ")"
      ],
      "metadata": {
        "colab": {
          "base_uri": "https://localhost:8080/"
        },
        "id": "ewyLZT7Xpu7L",
        "outputId": "f3a00740-65ca-4a51-865d-2f45392a2e07"
      },
      "execution_count": null,
      "outputs": [
        {
          "output_type": "stream",
          "name": "stdout",
          "text": [
            "C 9.30371222e-315 0.0 -1.19857731953546 12.0\n",
            "O -6.980002663e-315 0.0 0.8992187940051777 15.99491461957\n"
          ]
        }
      ]
    },
    {
      "cell_type": "code",
      "source": [
        "#The geometries in Psi4 are in atomic units (Bohr), whereas Angstrom is more often used. Let's scale the geometry accordingly:\n",
        "co_geom = co.geometry()\n",
        "co_geom.scale(0.52917720859) #convert to angstroms\n",
        "co_geom_array = co_geom.to_array() #make a numpy array that we can store/manipulate etc.\n",
        "co_geom_array"
      ],
      "metadata": {
        "colab": {
          "base_uri": "https://localhost:8080/"
        },
        "id": "BKJavG3xp7Dr",
        "outputId": "4e3283a3-70f2-4a73-e8ec-9a4ef347b8f7"
      },
      "execution_count": null,
      "outputs": [
        {
          "output_type": "execute_result",
          "data": {
            "text/plain": [
              "array([[ 0.00000000,  0.00000000, -0.63425980],\n",
              "       [-0.00000000,  0.00000000,  0.47584609]])"
            ]
          },
          "metadata": {},
          "execution_count": 8
        }
      ]
    },
    {
      "cell_type": "code",
      "source": [
        "#We saw above that the geometry did change as we'd expect. Now we can proceed to perform optimizations for hydrogen and formaldehyde as well.\n",
        "psi4.optimize('scf/cc-pvdz', molecule=h2)"
      ],
      "metadata": {
        "colab": {
          "base_uri": "https://localhost:8080/"
        },
        "id": "w-9Y_Hh0qF9_",
        "outputId": "fc9a9d3c-9d72-4da8-c8e6-4f29ad2e7fa6"
      },
      "execution_count": null,
      "outputs": [
        {
          "output_type": "stream",
          "name": "stdout",
          "text": [
            "Optimizer: Optimization complete!\n"
          ]
        },
        {
          "output_type": "execute_result",
          "data": {
            "text/plain": [
              "-1.1287470112295486"
            ]
          },
          "metadata": {},
          "execution_count": 9
        }
      ]
    },
    {
      "cell_type": "code",
      "source": [
        "psi4.optimize('scf/cc-pvdz', molecule=formaldehyde) #Note that calling optimize updates the geometry associated with the molecule object, so no need to reassign unless you want to preserve the original geometry."
      ],
      "metadata": {
        "colab": {
          "base_uri": "https://localhost:8080/"
        },
        "id": "gjCWczevqYsn",
        "outputId": "5fed58e4-85e8-4455-e652-8f4b59cc06be"
      },
      "execution_count": null,
      "outputs": [
        {
          "output_type": "stream",
          "name": "stderr",
          "text": [
            "\tEnergy has increased in a minimization.\n",
            "\tEnergy ratio indicates iffy step.\n",
            "\tIntrafrag trust radius decreased to 2.500e-01.\n"
          ]
        },
        {
          "output_type": "stream",
          "name": "stdout",
          "text": [
            "Optimizer: Optimization complete!\n"
          ]
        },
        {
          "output_type": "execute_result",
          "data": {
            "text/plain": [
              "-113.87703230030127"
            ]
          },
          "metadata": {},
          "execution_count": 10
        }
      ]
    },
    {
      "cell_type": "code",
      "source": [
        "#So far we have done single-point and geometry optimizations. This gives us an SCF energy that is relative to a reference state of independent particles and is not governed by temperature\n",
        "#It's in effect a 0K energy. For actual thermodynamic and kinetic parameters, we want enthalpies, free energies and the like at a finite temperature like 298 K.\n",
        "#To do this, we need to apply thermal corrections for translational, rotational, and vibrational degrees of freedom through the partition functions.\n",
        "# For the latter, we need to do frequency calculations. These compute second derivatives of the energy at a given geometry and such are only well defined when your geometry and frequency levels of theory match.\n",
        "\n",
        "co_e, co_wfn = psi4.frequency('scf/cc-pvdz', molecule=co, return_wfn=True) #Store the energy and wavefunction for later analysis\n",
        "print(co_e) #print the energy of CO just to make sure nothing too odd is going on."
      ],
      "metadata": {
        "colab": {
          "base_uri": "https://localhost:8080/"
        },
        "id": "Liixfa9qqobH",
        "outputId": "09b98d53-5a14-41ae-8e52-09e37dc62b94"
      },
      "execution_count": null,
      "outputs": [
        {
          "output_type": "stream",
          "name": "stdout",
          "text": [
            "-112.74990561229676\n"
          ]
        }
      ]
    },
    {
      "cell_type": "code",
      "source": [
        "#We will also check the value of our frequency. For minima on the potential energy surface, we should see no imaginary (may show as negative in some codes) frequencies.\n",
        "#If you do see imaginary frequencies, this means that the optimization was not successful.\n",
        "for ifreq in range(int(3*co.natom() - 5)):\n",
        "    print(co_wfn.frequencies().get(0,ifreq))"
      ],
      "metadata": {
        "colab": {
          "base_uri": "https://localhost:8080/"
        },
        "id": "zk2BFAW8rQu1",
        "outputId": "4f6ec0c3-0774-43bb-cbd3-9941986cd6a9"
      },
      "execution_count": null,
      "outputs": [
        {
          "output_type": "stream",
          "name": "stdout",
          "text": [
            "2431.780533240022\n"
          ]
        }
      ]
    },
    {
      "cell_type": "code",
      "source": [
        "#With this, we can compute some thermodynamic properties. First we call vibrational analysis in Psi4:\n",
        "co_vibinfo = psi4.driver.vibanal_wfn(co_wfn)"
      ],
      "metadata": {
        "id": "6xWNWHuNsGGM"
      },
      "execution_count": null,
      "outputs": []
    },
    {
      "cell_type": "code",
      "source": [
        "#Next, we compute the thermodynamic information. We need to provide a few inputs to the driver for it compute everything.\n",
        "#All of this except for the molecular weight can be taken directly from the molecule object.\n",
        "\n",
        "#Compute molecular weight of co:\n",
        "co_mol_mass = 0\n",
        "for iat in range(co.natom()):\n",
        "    co_mol_mass += co.mass(iat)\n",
        "\n",
        "\n",
        "\n",
        "T = 298.15\n",
        "P = 101325\n",
        "co_mult = co.multiplicity()\n",
        "co_sigma = co.rotational_symmetry_number()\n",
        "co_rot_constants = np.asarray(co.rotational_constants())\n",
        "\n",
        "co_therminfo = psi4.driver.qcdb.vib.thermo(co_vibinfo, T, P, co_mult, co_mol_mass, co_e, co_sigma, co_rot_constants , \"RT_LINEAR\") #Note that we pass an argument to tell Psi4 the molecule is linear for the rotational partition function.\n",
        "co_thermdict = co_therminfo[0] #Give us our dictionary of thermodynamic values\n",
        "co_thermdict"
      ],
      "metadata": {
        "colab": {
          "base_uri": "https://localhost:8080/"
        },
        "id": "kSUy99j_sLgE",
        "outputId": "0db415da-8230-4c8e-b038-d6eb85d7b849"
      },
      "execution_count": null,
      "outputs": [
        {
          "output_type": "execute_result",
          "data": {
            "text/plain": [
              "{'E0': Datum(numeric=True, label='E0', units='Eh', data=-112.74990561229676, comment='', doi=None, glossary=''),\n",
              " 'B': Datum(numeric=True, label='rotational constants', units='cm^-1', data=array([ 0.00000000,  1.99518721,  1.99518721]), comment='', doi=None, glossary=''),\n",
              " 'sigma': Datum(numeric=True, label='external symmetry number', units='', data=1, comment='', doi=None, glossary=''),\n",
              " 'T': Datum(numeric=True, label='temperature', units='K', data=298.15, comment='', doi=None, glossary=''),\n",
              " 'P': Datum(numeric=True, label='pressure', units='Pa', data=101325, comment='', doi=None, glossary=''),\n",
              " 'S_elec': Datum(numeric=True, label='electronic S', units='mEh/K', data=0.0, comment='', doi=None, glossary=''),\n",
              " 'S_trans': Datum(numeric=True, label='translational S', units='mEh/K', data=0.05724692326015637, comment='', doi=None, glossary=''),\n",
              " 'Cv_trans': Datum(numeric=True, label='translational Cv', units='mEh/K', data=0.004750215737277949, comment='', doi=None, glossary=''),\n",
              " 'Cp_trans': Datum(numeric=True, label='translational Cp', units='mEh/K', data=0.007917026228796583, comment='', doi=None, glossary=''),\n",
              " 'E_trans': Datum(numeric=True, label='translational E', units='Eh', data=0.0014162768220694205, comment='', doi=None, glossary=''),\n",
              " 'H_trans': Datum(numeric=True, label='translational H', units='Eh', data=0.002360461370115701, comment='', doi=None, glossary=''),\n",
              " 'S_rot': Datum(numeric=True, label='rotational S', units='mEh/K', data=0.017870517873834084, comment='', doi=None, glossary=''),\n",
              " 'Cv_rot': Datum(numeric=True, label='rotational Cv', units='mEh/K', data=0.003166810491518633, comment='', doi=None, glossary=''),\n",
              " 'Cp_rot': Datum(numeric=True, label='rotational Cp', units='mEh/K', data=0.003166810491518633, comment='', doi=None, glossary=''),\n",
              " 'E_rot': Datum(numeric=True, label='rotational E', units='Eh', data=0.0009441845480462804, comment='', doi=None, glossary=''),\n",
              " 'H_rot': Datum(numeric=True, label='rotational H', units='Eh', data=0.0009441845480462804, comment='', doi=None, glossary=''),\n",
              " 'S_vib': Datum(numeric=True, label='vibrational S', units='mEh/K', data=3.2298171425686493e-07, comment='', doi=None, glossary=''),\n",
              " 'Cv_vib': Datum(numeric=True, label='vibrational Cv', units='mEh/K', data=3.4926000576827546e-06, comment='', doi=None, glossary=''),\n",
              " 'Cp_vib': Datum(numeric=True, label='vibrational Cp', units='mEh/K', data=3.4926000576827546e-06, comment='', doi=None, glossary=''),\n",
              " 'ZPE_vib': Datum(numeric=True, label='vibrational ZPE', units='Eh', data=0.005540003644314276, comment='', doi=None, glossary=''),\n",
              " 'E_vib': Datum(numeric=True, label='vibrational E', units='Eh', data=0.005540092379739564, comment='', doi=None, glossary=''),\n",
              " 'H_vib': Datum(numeric=True, label='vibrational H', units='Eh', data=0.005540092379739564, comment='', doi=None, glossary=''),\n",
              " 'H_elec': Datum(numeric=True, label='electronic H', units='Eh', data=0.0, comment='', doi=None, glossary=''),\n",
              " 'G_elec': Datum(numeric=True, label='electronic G', units='Eh', data=0.0, comment='', doi=None, glossary=''),\n",
              " 'G_trans': Datum(numeric=True, label='translational G', units='Eh', data=-0.01470770879989992, comment='', doi=None, glossary=''),\n",
              " 'G_rot': Datum(numeric=True, label='rotational G', units='Eh', data=-0.004383910356037353, comment='', doi=None, glossary=''),\n",
              " 'G_vib': Datum(numeric=True, label='vibrational G', units='Eh', data=0.005539996082741459, comment='', doi=None, glossary=''),\n",
              " 'Cv_elec': Datum(numeric=True, label='electronic Cv', units='mEh/K', data=0.0, comment='', doi=None, glossary=''),\n",
              " 'Cp_elec': Datum(numeric=True, label='electronic Cp', units='mEh/K', data=0.0, comment='', doi=None, glossary=''),\n",
              " 'ZPE_elec': Datum(numeric=True, label='electronic ZPE', units='Eh', data=0.0, comment='', doi=None, glossary=''),\n",
              " 'E_elec': Datum(numeric=True, label='electronic E', units='Eh', data=0.0, comment='', doi=None, glossary=''),\n",
              " 'ZPE_trans': Datum(numeric=True, label='translational ZPE', units='Eh', data=0.0, comment='', doi=None, glossary=''),\n",
              " 'ZPE_rot': Datum(numeric=True, label='rotational ZPE', units='Eh', data=0.0, comment='', doi=None, glossary=''),\n",
              " 'S_tot': Datum(numeric=True, label='total S', units='mEh/K', data=0.07511776411570471, comment='', doi=None, glossary=''),\n",
              " 'Cv_tot': Datum(numeric=True, label='total Cv', units='mEh/K', data=0.007920518828854266, comment='', doi=None, glossary=''),\n",
              " 'Cp_tot': Datum(numeric=True, label='total Cp', units='mEh/K', data=0.0110873293203729, comment='', doi=None, glossary=''),\n",
              " 'ZPE_corr': Datum(numeric=True, label='correction ZPE', units='Eh', data=0.005540003644314276, comment='', doi=None, glossary=''),\n",
              " 'ZPE_tot': Datum(numeric=True, label='total ZPE', units='Eh', data=-112.74436560865244, comment='', doi=None, glossary=''),\n",
              " 'E_corr': Datum(numeric=True, label='correction E', units='Eh', data=0.007900553749855266, comment='', doi=None, glossary=''),\n",
              " 'E_tot': Datum(numeric=True, label='total E', units='Eh', data=-112.74200505854691, comment='', doi=None, glossary=''),\n",
              " 'H_corr': Datum(numeric=True, label='correction H', units='Eh', data=0.008844738297901545, comment='', doi=None, glossary=''),\n",
              " 'H_tot': Datum(numeric=True, label='total H', units='Eh', data=-112.74106087399886, comment='', doi=None, glossary=''),\n",
              " 'G_corr': Datum(numeric=True, label='correction G', units='Eh', data=-0.013551623073195816, comment='', doi=None, glossary=''),\n",
              " 'G_tot': Datum(numeric=True, label='total G', units='Eh', data=-112.76345723536996, comment='', doi=None, glossary='')}"
            ]
          },
          "metadata": {},
          "execution_count": 14
        }
      ]
    },
    {
      "cell_type": "code",
      "source": [
        "#The dictionary contains plenty of thermodynamic information that can be useful. The parameter we are interested in here is the Gibbs Free Energy:\n",
        "co_thermdict['G_tot']"
      ],
      "metadata": {
        "colab": {
          "base_uri": "https://localhost:8080/"
        },
        "id": "1oOMHqKXsgiA",
        "outputId": "532cf61f-95bf-4fbe-d443-bca37f9e06d9"
      },
      "execution_count": null,
      "outputs": [
        {
          "output_type": "execute_result",
          "data": {
            "text/plain": [
              "Datum(numeric=True, label='total G', units='Eh', data=-112.76345723536996, comment='', doi=None, glossary='')"
            ]
          },
          "metadata": {},
          "execution_count": 15
        }
      ]
    },
    {
      "cell_type": "code",
      "source": [
        "#Get the thermochemistry data for H2:\n",
        "\n",
        "h2_e, h2_wfn = psi4.frequency('scf/cc-pvdz', molecule=h2, return_wfn=True) #Store the energy and wavefunction for later analysis\n",
        "\n",
        "h2_vibinfo = psi4.driver.vibanal_wfn(h2_wfn) # do the vibrational analysis for H2\n",
        "\n",
        "h2_mol_mass = 0\n",
        "for iat in range(h2.natom()):\n",
        "    h2_mol_mass += h2.mass(iat)\n",
        "\n",
        "T = 298.15\n",
        "P = 101325\n",
        "h2_mult = h2.multiplicity()\n",
        "h2_sigma = h2.rotational_symmetry_number()\n",
        "h2_rot_constants = np.asarray(h2.rotational_constants())\n",
        "\n",
        "h2_therminfo = psi4.driver.qcdb.vib.thermo(h2_vibinfo, T, P, h2_mult, h2_mol_mass, h2_e, h2_sigma, h2_rot_constants , \"RT_LINEAR\") #Note that we pass an argument to tell Psi4 the molecule is linear\n",
        "h2_thermdict = h2_therminfo[0] #Give us our dictionary of thermodynamic values"
      ],
      "metadata": {
        "id": "MMb7I3Kms-kg"
      },
      "execution_count": null,
      "outputs": []
    },
    {
      "cell_type": "code",
      "source": [
        "#Get the thermochemistry data for formaldehyde:\n",
        "\n",
        "formald_e, formald_wfn = psi4.frequency('scf/cc-pvdz', molecule=formaldehyde, return_wfn=True) #Store the energy and wavefunction for later analysis\n",
        "\n",
        "formald_vibinfo = psi4.driver.vibanal_wfn(formald_wfn) # do the vibrational analysis for H2\n",
        "\n",
        "formald_mol_mass = 0\n",
        "for iat in range(formaldehyde.natom()):\n",
        "    formald_mol_mass += formaldehyde.mass(iat)\n",
        "\n",
        "T = 298.15\n",
        "P = 101325\n",
        "formald_mult = formaldehyde.multiplicity()\n",
        "formald_sigma = formaldehyde.rotational_symmetry_number()\n",
        "formald_rot_constants = np.asarray(formaldehyde.rotational_constants())\n",
        "\n",
        "formald_therminfo = psi4.driver.qcdb.vib.thermo(formald_vibinfo, T, P, formald_mult, formald_mol_mass, formald_e, formald_sigma, formald_rot_constants) #Note that we don't specify rot_type. Nonlinear is the default.\n",
        "formald_thermdict = formald_therminfo[0] #Give us our dictionary of thermodynamic values"
      ],
      "metadata": {
        "id": "Fihqp_5ltE91"
      },
      "execution_count": null,
      "outputs": []
    },
    {
      "cell_type": "code",
      "source": [
        "#We can now compute an equilibrium constant for the formaldehyde reaction using the reaction free energy:\n",
        "co_g = co_thermdict['G_tot'].data\n",
        "h2_g = h2_thermdict['G_tot'].data\n",
        "formald_g = formald_thermdict['G_tot'].data\n",
        "\n",
        "R = 1.987*10**(-3) # in kcal/molK\n",
        "ha_to_kcal = 627.509 #conversion factor to kcal/mol, a more familiar unit to us.\n",
        "del_g_r = (formald_g - (co_g + h2_g)) * ha_to_kcal\n",
        "eq_r = np.exp(- del_g_r / (R * T))\n",
        "eq_r"
      ],
      "metadata": {
        "colab": {
          "base_uri": "https://localhost:8080/"
        },
        "id": "hxuvkn3RtJz9",
        "outputId": "8f98103b-739c-47db-bb52-9932a2b2ac3d"
      },
      "execution_count": null,
      "outputs": [
        {
          "output_type": "execute_result",
          "data": {
            "text/plain": [
              "1.7507827351225656e-11"
            ]
          },
          "metadata": {},
          "execution_count": 18
        }
      ]
    },
    {
      "cell_type": "code",
      "source": [
        "#So we aren't worried about CO poisoning from formaldehyde decomposition at room temperature.\n",
        "#As we know, the equilibrium constant will be a function of temperature, so let's compute the equilibrium constant at multiple temperatures.\n",
        "#Let's define some functions to expedite proceedings.\n",
        "\n",
        "def optfreq(mol, method, basis_set):\n",
        "    #First, do the optimization.\n",
        "    psi4.optimize(method + '/' + basis_set , molecule=mol)\n",
        "\n",
        "    #Then compute the frequencies using this geometry.\n",
        "    mol_e, mol_wfn = psi4.frequency(method + '/' + basis_set , molecule = mol, return_wfn=True)\n",
        "\n",
        "    #Next do the vibrational analysis.\n",
        "    mol_vibinfo = psi4.driver.vibanal_wfn(mol_wfn) # do the vibrational analysis for the molecule.\n",
        "    return mol_e, mol_wfn, mol_vibinfo\n",
        "\n",
        "def thermocalc(mol, mol_vibinfo, T, P, mol_e, mol_shape = None):\n",
        "    #Compute the molar mass for the molecule:\n",
        "    mol_mass = 0\n",
        "    for iat in range(mol.natom()):\n",
        "        mol_mass += mol.mass(iat)\n",
        "\n",
        "    #Get all the other molecular information required for the thermo_calculations.\n",
        "    mol_mult = mol.multiplicity()\n",
        "    mol_sigma = mol.rotational_symmetry_number()\n",
        "    mol_rot_constants = np.asarray(mol.rotational_constants())\n",
        "\n",
        "    #Next compute the thermo:\n",
        "    mol_therminfo_T = psi4.driver.qcdb.vib.thermo(mol_vibinfo, T, P, mol_mult, mol_mass, mol_e, mol_sigma, mol_rot_constants , mol_shape)\n",
        "    mol_thermdict_T = mol_therminfo_T[0]\n",
        "\n",
        "    return mol_thermdict_T\n",
        "\n",
        "def compute_eq_constant(reactant_thermdicts, product_thermdicts):\n",
        "    R = 1.987*10**(-3) # in kcal/molK\n",
        "    ha_to_kcal = 627.509\n",
        "\n",
        "    Temps = [thermdict['T'].data  for thermdict in reactant_thermdicts + product_thermdicts]\n",
        "    assert(len(set(Temps)) == 1)\n",
        "\n",
        "    reac_g = sum(thermdict['G_tot'].data  for thermdict in reactant_thermdicts)\n",
        "    prod_g = sum(thermdict['G_tot'].data  for thermdict in product_thermdicts)\n",
        "\n",
        "\n",
        "    del_g_r = (prod_g - reac_g) * ha_to_kcal\n",
        "    eq_r = np.exp(- del_g_r / (R * Temps[0]))\n",
        "    return eq_r"
      ],
      "metadata": {
        "id": "N0r1RMpCtotE"
      },
      "execution_count": null,
      "outputs": []
    },
    {
      "cell_type": "code",
      "source": [
        "eq_rs = []\n",
        "\n",
        "Ts = [300, 500, 800, 1000, 1400, 2000]\n",
        "\n",
        "for T in Ts:\n",
        "  co_thermdict_T = thermocalc(co, co_vibinfo, T, 101325, co_e, 'RT_LINEAR')\n",
        "  h2_thermdict_T = thermocalc(h2, h2_vibinfo, T, 101325, h2_e, 'RT_LINEAR')\n",
        "  formald_thermdict_T = thermocalc(formaldehyde, formald_vibinfo, T, 101325, formald_e)\n",
        "  eq_r = compute_eq_constant([co_thermdict_T, h2_thermdict_T], [formald_thermdict_T])\n",
        "  eq_rs.append(eq_r)"
      ],
      "metadata": {
        "id": "70ybIV_muLu0"
      },
      "execution_count": null,
      "outputs": []
    },
    {
      "cell_type": "code",
      "source": [
        "from matplotlib import pyplot as plt\n",
        "#plot the equilibrium constant as a function of temperature\n",
        "T_invs = [1/T for T in Ts]\n",
        "plt.figure()\n",
        "plt.plot(T_invs, eq_rs ,'o')\n",
        "plt.yscale('log')\n",
        "plt.xlabel(r\"$\\frac{1}{T}$\", fontsize = 14)\n",
        "plt.ylabel(\"$K_{eq}$\", fontsize = 14)\n",
        "plt.show()\n"
      ],
      "metadata": {
        "colab": {
          "base_uri": "https://localhost:8080/",
          "height": 465
        },
        "id": "t1GNrSnDvzmN",
        "outputId": "4ce67f9d-7a53-4d62-ea9e-f570e3678426"
      },
      "execution_count": null,
      "outputs": [
        {
          "output_type": "display_data",
          "data": {
            "text/plain": [
              "<Figure size 640x480 with 1 Axes>"
            ],
            "image/png": "[encoded data removed]"
          },
          "metadata": {}
        }
      ]
    },
    {
      "cell_type": "code",
      "source": [
        "#Hartree-Fock theory is a very basic method, being the simplest wavefunction and including no electron correlation whatsoever. Let's try a density functional theory (DFT) method next.\n",
        "#We'll try a common generalized gradient approximation (GGA) functional in B971. GGA functionals are a popular category of pure functionals (particularly if you do periodic/plane-wave DFT on larger systems).\n",
        "#The functionals in DFT are parameterized to try and include some correlation energy effects that simple HF will not whilst also computing the exchange energy effects (which HF computes exactly).\n",
        "#Let's start with CO :\n",
        "\n",
        "co_dft_e, co_dft_wfn, co_dft_vibinfo = optfreq(co, 'B97-1', 'cc-pvdz')\n",
        "co_dft_thermdict = thermocalc(co, co_dft_vibinfo, 298.15, 101325, co_dft_e, 'RT_LINEAR')\n"
      ],
      "metadata": {
        "colab": {
          "base_uri": "https://localhost:8080/"
        },
        "id": "zJwPphdHweMt",
        "outputId": "4f43f82d-6e89-478c-c3ed-bf9b1e3fd119"
      },
      "execution_count": null,
      "outputs": [
        {
          "output_type": "stream",
          "name": "stdout",
          "text": [
            "Optimizer: Optimization complete!\n"
          ]
        }
      ]
    },
    {
      "cell_type": "code",
      "source": [
        "#Repeat for H2.\n",
        "h2_dft_e, h2_dft_wfn, h2_dft_vibinfo = optfreq(h2, 'B97-1', 'cc-pvdz')\n",
        "h2_dft_thermdict = thermocalc(h2, h2_dft_vibinfo, 298.15, 101325, h2_dft_e, 'RT_LINEAR')"
      ],
      "metadata": {
        "colab": {
          "base_uri": "https://localhost:8080/"
        },
        "id": "qFBQO2HY0kqw",
        "outputId": "6b325fae-0cc6-4b73-afe3-9f8e4af49bb2"
      },
      "execution_count": null,
      "outputs": [
        {
          "output_type": "stream",
          "name": "stdout",
          "text": [
            "Optimizer: Optimization complete!\n"
          ]
        }
      ]
    },
    {
      "cell_type": "code",
      "source": [
        "#And for formaldehyde.\n",
        "formald_dft_e, formald_dft_wfn, formald_dft_vibinfo = optfreq(formaldehyde, 'B97-1', 'cc-pvdz')\n",
        "formald_dft_thermdict = thermocalc(formaldehyde, formald_dft_vibinfo, 298.15, 101325, formald_dft_e)"
      ],
      "metadata": {
        "colab": {
          "base_uri": "https://localhost:8080/"
        },
        "id": "v89CUctn1JVs",
        "outputId": "f9a844f6-bc7c-4db5-e998-9333ee228c8f"
      },
      "execution_count": null,
      "outputs": [
        {
          "output_type": "stream",
          "name": "stderr",
          "text": [
            "\tEnergy has increased in a minimization.\n",
            "\tEnergy ratio indicates iffy step.\n",
            "\tIntrafrag trust radius decreased to 2.500e-01.\n",
            "\tPrevious geometry is closer to target in internal coordinates, so using that one.\n",
            "\n",
            "\tBest geometry has RMS(Delta(q)) = 8.07e-09\n",
            "\n"
          ]
        },
        {
          "output_type": "stream",
          "name": "stdout",
          "text": [
            "Optimizer: Optimization complete!\n"
          ]
        }
      ]
    },
    {
      "cell_type": "code",
      "source": [
        "#Let's compute the equilibrium constant at the new level of theory:\n",
        "eq_dft_rs = []\n",
        "for T in Ts:\n",
        "  co_thermdict_dft = thermocalc(co, co_dft_vibinfo, T, 101325, co_dft_e, 'RT_LINEAR')\n",
        "  h2_thermdict_dft = thermocalc(h2, h2_dft_vibinfo, T, 101325, h2_dft_e, 'RT_LINEAR')\n",
        "  formald_thermdict_dft = thermocalc(formaldehyde, formald_dft_vibinfo, T, 101325, formald_dft_e)\n",
        "  eq_dft_r = compute_eq_constant([co_thermdict_dft, h2_thermdict_dft], [formald_thermdict_dft])\n",
        "  eq_dft_rs.append(eq_dft_r)"
      ],
      "metadata": {
        "id": "3qDtDA0W1hTo"
      },
      "execution_count": null,
      "outputs": []
    },
    {
      "cell_type": "code",
      "source": [
        "print(co_dft_e, h2_dft_e, formald_dft_e)"
      ],
      "metadata": {
        "colab": {
          "base_uri": "https://localhost:8080/"
        },
        "id": "4gBU2Sr23DZy",
        "outputId": "8a3faff6-4511-42eb-8fff-276f789ca90c"
      },
      "execution_count": null,
      "outputs": [
        {
          "output_type": "stream",
          "name": "stdout",
          "text": [
            "-113.29162270762106 -1.1664741641723664 -114.47308910651184\n"
          ]
        }
      ]
    },
    {
      "cell_type": "code",
      "source": [
        "from matplotlib import pyplot as plt\n",
        "#plot the equilibrium constant as a function of temperature for both levels of theory.\n",
        "T_invs = [1/T for T in Ts]\n",
        "plt.figure()\n",
        "plt.plot(T_invs, eq_rs ,'b--', label = 'HF/cc-pVDZ')\n",
        "plt.plot(T_invs, eq_dft_rs ,'r-.', label = 'B971/cc-pVDZ')\n",
        "plt.legend()\n",
        "plt.yscale('log')\n",
        "plt.xlabel(r\"$\\frac{1}{T}$\", fontsize = 14)\n",
        "plt.ylabel(\"$K_{eq}$\", fontsize = 14)\n",
        "plt.show()"
      ],
      "metadata": {
        "colab": {
          "base_uri": "https://localhost:8080/",
          "height": 465
        },
        "id": "vFjVTQMk2Vq1",
        "outputId": "0b80db93-b204-4650-e41f-b5613a1cbef4"
      },
      "execution_count": null,
      "outputs": [
        {
          "output_type": "display_data",
          "data": {
            "text/plain": [
              "<Figure size 640x480 with 1 Axes>"
            ],
            "image/png": "[encoded data removed]"
          },
          "metadata": {}
        }
      ]
    }
  ]
}